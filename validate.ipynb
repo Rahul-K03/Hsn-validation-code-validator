{
 "cells": [
  {
   "cell_type": "code",
   "execution_count": 19,
   "id": "08cb8e75",
   "metadata": {},
   "outputs": [],
   "source": [
    "import pandas as pd"
   ]
  },
  {
   "cell_type": "code",
   "execution_count": 20,
   "id": "3276ed5f",
   "metadata": {},
   "outputs": [],
   "source": [
    "file_path = \"D:\\\\HSN Validator Agent\\\\data\\\\HSN_SAC.xlsx\"\n",
    "hsn_df = pd.read_excel(file_path, sheet_name=0, dtype=str).fillna(\"\")\n",
    "sac_df = pd.read_excel(file_path, sheet_name=1, dtype=str).fillna(\"\")\n"
   ]
  },
  {
   "cell_type": "code",
   "execution_count": 21,
   "id": "955acc7d",
   "metadata": {},
   "outputs": [],
   "source": [
    "hsn_df.columns = hsn_df.columns.str.strip()\n",
    "sac_df.columns = sac_df.columns.str.strip()"
   ]
  },
  {
   "cell_type": "code",
   "execution_count": 22,
   "id": "561efeca",
   "metadata": {},
   "outputs": [],
   "source": [
    "hsn_codes = set(hsn_df['HSNCode'])\n",
    "sac_codes = set(sac_df['SAC_CD'])"
   ]
  },
  {
   "cell_type": "code",
   "execution_count": 23,
   "id": "729cc6e8",
   "metadata": {},
   "outputs": [
    {
     "name": "stdout",
     "output_type": "stream",
     "text": [
      "📦 Total Unique HSN Codes: 21568\n",
      "📋 Total Unique SAC Codes: 680\n"
     ]
    }
   ],
   "source": [
    "print(\"📦 Total Unique HSN Codes:\", len(hsn_codes))\n",
    "print(\"📋 Total Unique SAC Codes:\", len(sac_codes))"
   ]
  },
  {
   "cell_type": "code",
   "execution_count": 24,
   "id": "7bb7c668",
   "metadata": {},
   "outputs": [
    {
     "name": "stdout",
     "output_type": "stream",
     "text": [
      "\n",
      "🔹 Sample HSN Codes and Descriptions:\n",
      "    HSNCode                                        Description\n",
      "0        01                                       LIVE ANIMALS\n",
      "1      0101             LIVE HORSES, ASSES, MULES AND HINNIES.\n",
      "2  01011010  LIVE HORSES, ASSES, MULES AND HINNIES PURE-BRE...\n",
      "3  01011020  LIVE HORSES, ASSES, MULESANDHINNIES PURE-BRED ...\n",
      "4  01011090  LIVE HORSES, ASSES, MULES AND HINNIES PURE-BRE...\n"
     ]
    }
   ],
   "source": [
    "print(\"\\n🔹 Sample HSN Codes and Descriptions:\")\n",
    "print(hsn_df[['HSNCode', 'Description']].head())"
   ]
  },
  {
   "cell_type": "code",
   "execution_count": 25,
   "id": "fdddea38",
   "metadata": {},
   "outputs": [
    {
     "name": "stdout",
     "output_type": "stream",
     "text": [
      "\n",
      "🔸 Sample SAC Codes and Descriptions:\n",
      "   SAC_CD                                    SAC_Description\n",
      "0      99                                       All Services\n",
      "1    9954                              Construction services\n",
      "2  995411  Construction services of affordable residentia...\n",
      "3  995412  Construction services of residential apartment...\n",
      "4  995413  Construction services of commercial apartments...\n"
     ]
    }
   ],
   "source": [
    "print(\"\\n🔸 Sample SAC Codes and Descriptions:\")\n",
    "print(sac_df[['SAC_CD', 'SAC_Description']].head())"
   ]
  },
  {
   "cell_type": "code",
   "execution_count": 26,
   "id": "8c63d9ac",
   "metadata": {},
   "outputs": [],
   "source": [
    "import pandas as pd"
   ]
  },
  {
   "cell_type": "code",
   "execution_count": 33,
   "id": "144d93f6",
   "metadata": {},
   "outputs": [],
   "source": [
    "def clean_columns(df):\n",
    "    df.columns = df.columns.str.strip().str.lower().str.replace(r\"[^\\w]\", \"_\", regex=True)\n",
    "    return df"
   ]
  },
  {
   "cell_type": "code",
   "execution_count": 34,
   "id": "aa747f8f",
   "metadata": {},
   "outputs": [],
   "source": [
    "def clean_values(df):\n",
    "    return df.applymap(lambda x: x.strip() if isinstance(x, str) else x).drop_duplicates()"
   ]
  },
  {
   "cell_type": "code",
   "execution_count": 35,
   "id": "f1d8f3b1",
   "metadata": {},
   "outputs": [],
   "source": [
    "def filter_valid_codes(df, code_col, desc_col):\n",
    "    return df[df[code_col].str.isdigit() & df[desc_col].notna()]"
   ]
  },
  {
   "cell_type": "code",
   "execution_count": 36,
   "id": "8b7d4242",
   "metadata": {},
   "outputs": [],
   "source": [
    "def load_excel_data(file_path):\n",
    "    hsn_df = pd.read_excel(file_path, sheet_name=0, dtype=str)\n",
    "    sac_df = pd.read_excel(file_path, sheet_name=1, dtype=str)\n",
    "\n",
    "    hsn_df = clean_columns(hsn_df)\n",
    "    sac_df = clean_columns(sac_df)\n",
    "\n",
    "    hsn_df = clean_values(hsn_df)\n",
    "    sac_df = clean_values(sac_df)\n",
    "\n",
    "    hsn_df = filter_valid_codes(hsn_df, 'hsncode', 'description')\n",
    "    sac_df = filter_valid_codes(sac_df, 'sac_cd', 'sac_description')\n",
    "\n",
    "    hsn_dict = dict(zip(hsn_df['hsncode'], hsn_df['description']))\n",
    "    sac_dict = dict(zip(sac_df['sac_cd'], sac_df['sac_description']))\n",
    "\n",
    "    return hsn_dict, sac_dict\n"
   ]
  },
  {
   "cell_type": "code",
   "execution_count": 37,
   "id": "0247983e",
   "metadata": {},
   "outputs": [],
   "source": [
    "def validate_code(code, hsn_dict, sac_dict):\n",
    "    code = str(code).strip()\n",
    "    if code in hsn_dict:\n",
    "        return f\"✅ Valid HSN code: {code}\\n🔎 Description: {hsn_dict[code]}\"\n",
    "    elif code in sac_dict:\n",
    "        return f\"✅ Valid SAC code: {code}\\n🔎 Description: {sac_dict[code]}\"\n",
    "    else:\n",
    "        return f\"❌ Invalid code: {code}\\n🔍 Description: Not available (Invalid code)\"\n"
   ]
  },
  {
   "cell_type": "code",
   "execution_count": 38,
   "id": "b1092c0e",
   "metadata": {},
   "outputs": [],
   "source": [
    "def main():\n",
    "    hsn_dict, sac_dict = load_excel_data(\"D:\\\\HSN Validator Agent\\\\data\\\\HSN_SAC.xlsx\")\n",
    "    while True:\n",
    "        code = input(\"Enter HSN or SAC code to validate (or 'exit'): \").strip()\n",
    "        if code.lower() == 'exit':\n",
    "            break\n",
    "        print(validate_code(code, hsn_dict, sac_dict))\n",
    "\n"
   ]
  },
  {
   "cell_type": "code",
   "execution_count": 39,
   "id": "c4c18abb",
   "metadata": {},
   "outputs": [
    {
     "name": "stderr",
     "output_type": "stream",
     "text": [
      "C:\\Users\\sanga\\AppData\\Local\\Temp\\ipykernel_24156\\3928485735.py:2: FutureWarning: DataFrame.applymap has been deprecated. Use DataFrame.map instead.\n",
      "  return df.applymap(lambda x: x.strip() if isinstance(x, str) else x).drop_duplicates()\n"
     ]
    },
    {
     "name": "stdout",
     "output_type": "stream",
     "text": [
      "✅ Valid HSN code: 01\n",
      "🔎 Description: LIVE ANIMALS\n",
      "✅ Valid HSN code: 0103\n",
      "🔎 Description: LIVE SWINE\n",
      "✅ Valid HSN code: 0104\n",
      "🔎 Description: LIVE SHEEP AND GOATS\n"
     ]
    }
   ],
   "source": [
    "\n",
    "if __name__ == \"__main__\":\n",
    "    main()"
   ]
  },
  {
   "cell_type": "code",
   "execution_count": null,
   "id": "68764de1",
   "metadata": {},
   "outputs": [],
   "source": []
  },
  {
   "cell_type": "code",
   "execution_count": null,
   "id": "75f69167",
   "metadata": {},
   "outputs": [],
   "source": []
  },
  {
   "cell_type": "code",
   "execution_count": null,
   "id": "99a53fbc",
   "metadata": {},
   "outputs": [],
   "source": []
  },
  {
   "cell_type": "code",
   "execution_count": null,
   "id": "5d00b341",
   "metadata": {},
   "outputs": [],
   "source": []
  },
  {
   "cell_type": "code",
   "execution_count": null,
   "id": "0abcf5a1",
   "metadata": {},
   "outputs": [],
   "source": []
  },
  {
   "cell_type": "code",
   "execution_count": null,
   "id": "a9701633",
   "metadata": {},
   "outputs": [],
   "source": []
  },
  {
   "cell_type": "code",
   "execution_count": null,
   "id": "293ea486",
   "metadata": {},
   "outputs": [],
   "source": []
  },
  {
   "cell_type": "code",
   "execution_count": null,
   "id": "60d2cd28",
   "metadata": {},
   "outputs": [],
   "source": []
  },
  {
   "cell_type": "code",
   "execution_count": null,
   "id": "6e7b2c2f",
   "metadata": {},
   "outputs": [],
   "source": []
  },
  {
   "cell_type": "code",
   "execution_count": null,
   "id": "c749c20d",
   "metadata": {},
   "outputs": [],
   "source": []
  },
  {
   "cell_type": "code",
   "execution_count": null,
   "id": "1c4c0ec0",
   "metadata": {},
   "outputs": [],
   "source": []
  }
 ],
 "metadata": {
  "kernelspec": {
   "display_name": "Python 3",
   "language": "python",
   "name": "python3"
  },
  "language_info": {
   "codemirror_mode": {
    "name": "ipython",
    "version": 3
   },
   "file_extension": ".py",
   "mimetype": "text/x-python",
   "name": "python",
   "nbconvert_exporter": "python",
   "pygments_lexer": "ipython3",
   "version": "3.12.2"
  }
 },
 "nbformat": 4,
 "nbformat_minor": 5
}
